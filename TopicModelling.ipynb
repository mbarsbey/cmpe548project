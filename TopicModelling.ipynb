{
 "cells": [
  {
   "cell_type": "code",
   "execution_count": 1,
   "metadata": {},
   "outputs": [],
   "source": [
    "import numpy as np\n",
    "import pymc3 as pm \n",
    "import matplotlib.pyplot as plt\n",
    "%matplotlib inline"
   ]
  },
  {
   "cell_type": "code",
   "execution_count": 19,
   "metadata": {},
   "outputs": [],
   "source": [
    "def lda_model(data,ndocs,ntopics,nvocab):\n",
    "    # Define model \n",
    "    with pm.Model() as model:\n",
    "        alpha = np.ones([ndocs, ntopics])\n",
    "        beta = np.ones([ntopics, nvocab])\n",
    "        length_docs = [len(doc) for doc in data]\n",
    "\n",
    "        # topic distribution for each document \n",
    "        theta = pm.distributions.Dirichlet('theta', \n",
    "                                           a=alpha, \n",
    "                                           shape=(ndocs, ntopics))\n",
    "        # word distribution for each topic \n",
    "        phi = pm.distributions.Dirichlet('phi', \n",
    "                                         a=beta, \n",
    "                                         shape=(ntopics, nvocab))\n",
    "        # topic for each word in doc d\n",
    "        zs = [pm.Categorical(\"z_d{}\".format(d), \n",
    "                             p=theta[d], \n",
    "                             shape=length_docs[d]) \n",
    "                    for d in range(ndocs)]\n",
    "        # word distribution associated to topic k\n",
    "        ws = [pm.Categorical(\"w_{}_{}\".format(d,i), \n",
    "                             p=phi[zs[d][i]], \n",
    "                             observed=data[d][i]) \n",
    "                    for d in range(ndocs) for i in range(length_docs[d])]\n",
    "        step = pm.NUTS()\n",
    "        trace = pm.sample(1000,step=step)\n",
    "    return trace "
   ]
  },
  {
   "cell_type": "code",
   "execution_count": 14,
   "metadata": {},
   "outputs": [],
   "source": [
    "def plot_data(data):\n",
    "    plt.clf()\n",
    "    plt.matshow(data, fignum=1000, cmap=plt.cm.Blues)\n",
    "    plt.gca().set_aspect('auto')\n",
    "    plt.xlabel(\"Words\")\n",
    "    plt.ylabel(\"Documents\")\n",
    "    \n",
    "\n",
    "def plot_words_per_topic(trace,ndocs):\n",
    "    plt.clf()\n",
    "    fig, ax = plt.subplots(1,1)\n",
    "    words = [] \n",
    "    for d in range(ndocs):\n",
    "        value_z=trace.get_values(\"z_d{}\".format(d))\n",
    "        words.append(value_z[-1])\n",
    "    topic_dist = dict()\n",
    "    for k_i in words:\n",
    "        for k in k_i:\n",
    "            if k not in topic_dist:\n",
    "                topic_dist[k] = 0\n",
    "            topic_dist[k] += 1\n",
    "    ax.bar(topic_dist.keys(), topic_dist.values())\n",
    "    ax.set_xlabel(\"Topics\")\n",
    "    ax.set_ylabel(\"Counts\")\n",
    "    ax.set_title(\"Document words per topics\")\n",
    "    plt.show()    \n",
    "    \n",
    "def plot_word_dist(trace,nvocab):\n",
    "    topics = trace.get_values('phi')\n",
    "    topics = topics[-1,:] \n",
    "    plt.clf()\n",
    "    t,n = topics.shape\n",
    "    fig, ax = plt.subplots(int((t+1)/2),2,figsize=(10,10))\n",
    "    for i in range(t):\n",
    "        ax[int(i/2)][(i%2)].bar(range(nvocab),topics[i,:])\n",
    "        ax[int(i/2)][(i%2)].set_title(\"Topic %s\" % i)\n",
    "    plt.suptitle(\"Words proportions per topic\")\n",
    "    fig.subplots_adjust(hspace=0.5, wspace=0.5)    "
   ]
  },
  {
   "cell_type": "markdown",
   "metadata": {},
   "source": [
    "# With Generated data "
   ]
  },
  {
   "cell_type": "code",
   "execution_count": 20,
   "metadata": {
    "scrolled": true
   },
   "outputs": [
    {
     "name": "stderr",
     "output_type": "stream",
     "text": [
      "Assigned CategoricalGibbsMetropolis to z_d0\n",
      "Assigned CategoricalGibbsMetropolis to z_d1\n",
      "Assigned CategoricalGibbsMetropolis to z_d2\n",
      "Assigned CategoricalGibbsMetropolis to z_d3\n",
      "Assigned CategoricalGibbsMetropolis to z_d4\n",
      "Assigned CategoricalGibbsMetropolis to z_d5\n",
      "Assigned CategoricalGibbsMetropolis to z_d6\n",
      "Assigned CategoricalGibbsMetropolis to z_d7\n",
      "Assigned CategoricalGibbsMetropolis to z_d8\n",
      "Assigned CategoricalGibbsMetropolis to z_d9\n",
      "Assigned CategoricalGibbsMetropolis to z_d10\n",
      "Assigned CategoricalGibbsMetropolis to z_d11\n",
      "Assigned CategoricalGibbsMetropolis to z_d12\n",
      "Assigned CategoricalGibbsMetropolis to z_d13\n",
      "Assigned CategoricalGibbsMetropolis to z_d14\n",
      "Assigned CategoricalGibbsMetropolis to z_d15\n",
      "Assigned CategoricalGibbsMetropolis to z_d16\n",
      "Assigned CategoricalGibbsMetropolis to z_d17\n",
      "Assigned CategoricalGibbsMetropolis to z_d18\n",
      "Assigned CategoricalGibbsMetropolis to z_d19\n",
      "100%|██████████| 1500/1500 [10:16<00:00,  2.43it/s]\n"
     ]
    },
    {
     "data": {
      "image/png": "[encoded data removed]",
      "text/plain": [
       "<matplotlib.figure.Figure at 0x7fe4d27e43c8>"
      ]
     },
     "metadata": {},
     "output_type": "display_data"
    },
    {
     "data": {
      "text/plain": [
       "<matplotlib.figure.Figure at 0x7fe4f15fcef0>"
      ]
     },
     "metadata": {},
     "output_type": "display_data"
    }
   ],
   "source": [
    "# number of topics,words,documents \n",
    "ntopics,nwords,ndocs = 5,10,20\n",
    "data = np.random.randint(0,10,size=(ndocs,nwords))\n",
    "plot_data(data)\n",
    "trace=lda_model(data,ndocs,ntopics,nwords)"
   ]
  },
  {
   "cell_type": "code",
   "execution_count": 21,
   "metadata": {},
   "outputs": [
    {
     "data": {
      "text/plain": [
       "<matplotlib.figure.Figure at 0x7fe523681fd0>"
      ]
     },
     "metadata": {},
     "output_type": "display_data"
    },
    {
     "data": {
      "image/png": "[encoded data removed]",
      "text/plain": [
       "<matplotlib.figure.Figure at 0x7fe4d27dbcf8>"
      ]
     },
     "metadata": {},
     "output_type": "display_data"
    }
   ],
   "source": [
    "plot_words_per_topic(trace,ndocs)"
   ]
  },
  {
   "cell_type": "code",
   "execution_count": 23,
   "metadata": {},
   "outputs": [
    {
     "data": {
      "text/plain": [
       "<matplotlib.figure.Figure at 0x7fe4b98c2cf8>"
      ]
     },
     "metadata": {},
     "output_type": "display_data"
    },
    {
     "data": {
      "image/png": "[encoded data removed]",
      "text/plain": [
       "<matplotlib.figure.Figure at 0x7fe4b9cae908>"
      ]
     },
     "metadata": {},
     "output_type": "display_data"
    }
   ],
   "source": [
    "plot_word_dist(trace,nwords)"
   ]
  }
 ],
 "metadata": {
  "kernelspec": {
   "display_name": "Python 3",
   "language": "python",
   "name": "python3"
  },
  "language_info": {
   "codemirror_mode": {
    "name": "ipython",
    "version": 3
   },
   "file_extension": ".py",
   "mimetype": "text/x-python",
   "name": "python",
   "nbconvert_exporter": "python",
   "pygments_lexer": "ipython3",
   "version": "3.5.4"
  }
 },
 "nbformat": 4,
 "nbformat_minor": 2
}
