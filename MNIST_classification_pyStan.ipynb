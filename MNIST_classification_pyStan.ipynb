{
 "cells": [
  {
   "cell_type": "code",
   "execution_count": 1,
   "metadata": {},
   "outputs": [
    {
     "name": "stderr",
     "output_type": "stream",
     "text": [
      "/home/uras/miniconda3/lib/python3.5/site-packages/sklearn/cross_validation.py:41: DeprecationWarning: This module was deprecated in version 0.18 in favor of the model_selection module into which all the refactored classes and functions are moved. Also note that the interface of the new CV iterators are different from that of this module. This module will be removed in 0.20.\n",
      "  \"This module will be removed in 0.20.\", DeprecationWarning)\n"
     ]
    }
   ],
   "source": [
    "import pystan\n",
    "from pystan import StanModel\n",
    "\n",
    "%matplotlib inline\n",
    "import sklearn\n",
    "import numpy as np\n",
    "import matplotlib.pyplot as plt\n",
    "from sklearn.preprocessing import scale\n",
    "from sklearn.cross_validation import train_test_split\n",
    "\n",
    "from sklearn.datasets import fetch_mldata\n",
    "import scipy.io as sio"
   ]
  },
  {
   "cell_type": "code",
   "execution_count": 2,
   "metadata": {},
   "outputs": [],
   "source": [
    "# mnist = fetch_mldata('MNIST original', data_home='.')\n",
    "### to download MNIST data, uncomment the line above and run ###\n",
    "mnist = sio.loadmat('mldata/mnist-original.mat')\n",
    "data = mnist['data'].T\n",
    "label = mnist['label'].T"
   ]
  },
  {
   "cell_type": "code",
   "execution_count": 4,
   "metadata": {},
   "outputs": [],
   "source": [
    "X_train, X_test, Y_train, Y_test = train_test_split(data, label, test_size=1.0/7)\n",
    "X_train = X_train.astype('float32')\n",
    "X_test = X_test.astype('float32')\n",
    "X_train /= 255\n",
    "X_test /= 255"
   ]
  },
  {
   "cell_type": "code",
   "execution_count": 7,
   "metadata": {},
   "outputs": [],
   "source": [
    "model = \"\"\"\n",
    "data {\n",
    "    real init_1[784, 100];\n",
    "    real init_2[100, 10];\n",
    "    real init_out[10];\n",
    "    real input[60000, 784];\n",
    "    real output[60000, 1];\n",
    "}\n",
    "parameters {\n",
    "    real weights_in_1[784, 100];\n",
    "    real weights_1_2[100, 10];\n",
    "    real weights_2_out[10];\n",
    "    real out[10];\n",
    "}\n",
    "transformed parameters{\n",
    "    matrix[784, 100] act_1 = tanh(dot_product(input, weights_in_1))\n",
    "    matrix[100, 10] act_2 = tanh(dot_product(act_1, weights_1_2))\n",
    "    vector[10] act_out = ilogit(dot_product(act_2, weights_2_out))\n",
    "}\n",
    "model {\n",
    "    for (i in 1:784)\n",
    "        for (j in 1:100)\n",
    "            weights_in_1[i,j] ~ normal(0, 1);\n",
    "            \n",
    "    for (i in 1:784)\n",
    "        for (j in 1:100)\n",
    "            weights_1_2[i,j] ~ normal(0, 1);\n",
    "    \n",
    "    for (i in 1:10)\n",
    "            weights_2_out[i] ~ normal(0, 1);\n",
    "        \n",
    "    for (i in 1:10)\n",
    "        out[i] ~ dcat(act_out[])\n",
    "}\n",
    "\"\"\""
   ]
  },
  {
   "cell_type": "code",
   "execution_count": 8,
   "metadata": {},
   "outputs": [
    {
     "ename": "ValueError",
     "evalue": "Failed to parse Stan model 'anon_model_54381e03b96ae1a1f2eec9234a3aab72'. Error message:\nSYNTAX ERROR, MESSAGE(S) FROM PARSER:\n\nNo matches for: \n\n  dot_product(real[,], real[,])\n\nAvailable argument signatures for dot_product:\n\n  dot_product(vector, vector)\n  dot_product(row vector, row vector)\n  dot_product(vector, row vector)\n  dot_product(row vector, vector)\n  dot_product(real[], real[])\n\n  error in 'unkown file name' at line 16, column 67\n  -------------------------------------------------\n    14: }\n    15: transformed parameters{\n    16:     matrix[784, 100] act_1 = tanh(dot_product(input, weights_in_1))\n                                                                          ^\n    17:     matrix[100, 10] act_2 = tanh(dot_product(act_1, weights_1_2))\n  -------------------------------------------------\n\n",
     "output_type": "error",
     "traceback": [
      "\u001b[0;31m---------------------------------------------------------------------------\u001b[0m",
      "\u001b[0;31mValueError\u001b[0m                                Traceback (most recent call last)",
      "\u001b[0;32m<ipython-input-8-df910c3b79f9>\u001b[0m in \u001b[0;36m<module>\u001b[0;34m()\u001b[0m\n\u001b[1;32m      9\u001b[0m \u001b[0mdata_dict\u001b[0m \u001b[0;34m=\u001b[0m \u001b[0;34m{\u001b[0m\u001b[0;34m'init_1'\u001b[0m\u001b[0;34m:\u001b[0m \u001b[0minit_1\u001b[0m\u001b[0;34m,\u001b[0m \u001b[0;34m'init_2'\u001b[0m\u001b[0;34m:\u001b[0m \u001b[0minit_2\u001b[0m \u001b[0;34m,\u001b[0m\u001b[0;34m'init_out'\u001b[0m \u001b[0;34m:\u001b[0m \u001b[0minit_out\u001b[0m\u001b[0;34m,\u001b[0m \u001b[0;34m'input'\u001b[0m \u001b[0;34m:\u001b[0m \u001b[0mX_train\u001b[0m\u001b[0;34m,\u001b[0m \u001b[0;34m'output'\u001b[0m \u001b[0;34m:\u001b[0m \u001b[0mY_train\u001b[0m\u001b[0;34m}\u001b[0m\u001b[0;34m\u001b[0m\u001b[0m\n\u001b[1;32m     10\u001b[0m \u001b[0;34m\u001b[0m\u001b[0m\n\u001b[0;32m---> 11\u001b[0;31m \u001b[0mfit_model\u001b[0m \u001b[0;34m=\u001b[0m \u001b[0mStanModel\u001b[0m\u001b[0;34m(\u001b[0m\u001b[0mmodel_code\u001b[0m\u001b[0;34m=\u001b[0m\u001b[0mmodel\u001b[0m\u001b[0;34m)\u001b[0m\u001b[0;34m\u001b[0m\u001b[0m\n\u001b[0m\u001b[1;32m     12\u001b[0m \u001b[0;34m\u001b[0m\u001b[0m\n\u001b[1;32m     13\u001b[0m \u001b[0mfit\u001b[0m \u001b[0;34m=\u001b[0m \u001b[0mfit_model\u001b[0m\u001b[0;34m.\u001b[0m\u001b[0msampling\u001b[0m\u001b[0;34m(\u001b[0m\u001b[0mdata\u001b[0m\u001b[0;34m=\u001b[0m\u001b[0mdata_dict\u001b[0m\u001b[0;34m,\u001b[0m \u001b[0miter\u001b[0m\u001b[0;34m=\u001b[0m\u001b[0;36m1000\u001b[0m\u001b[0;34m,\u001b[0m \u001b[0mchains\u001b[0m\u001b[0;34m=\u001b[0m\u001b[0;36m1\u001b[0m\u001b[0;34m)\u001b[0m\u001b[0;34m\u001b[0m\u001b[0m\n",
      "\u001b[0;32m~/miniconda3/lib/python3.5/site-packages/pystan/model.py\u001b[0m in \u001b[0;36m__init__\u001b[0;34m(self, file, charset, model_name, model_code, stanc_ret, boost_lib, eigen_lib, verbose, obfuscate_model_name, extra_compile_args)\u001b[0m\n\u001b[1;32m    211\u001b[0m                                          \u001b[0mmodel_name\u001b[0m\u001b[0;34m=\u001b[0m\u001b[0mmodel_name\u001b[0m\u001b[0;34m,\u001b[0m\u001b[0;34m\u001b[0m\u001b[0m\n\u001b[1;32m    212\u001b[0m                                          \u001b[0mverbose\u001b[0m\u001b[0;34m=\u001b[0m\u001b[0mverbose\u001b[0m\u001b[0;34m,\u001b[0m\u001b[0;34m\u001b[0m\u001b[0m\n\u001b[0;32m--> 213\u001b[0;31m                                          obfuscate_model_name=obfuscate_model_name)\n\u001b[0m\u001b[1;32m    214\u001b[0m \u001b[0;34m\u001b[0m\u001b[0m\n\u001b[1;32m    215\u001b[0m         \u001b[0;32mif\u001b[0m \u001b[0;32mnot\u001b[0m \u001b[0misinstance\u001b[0m\u001b[0;34m(\u001b[0m\u001b[0mstanc_ret\u001b[0m\u001b[0;34m,\u001b[0m \u001b[0mdict\u001b[0m\u001b[0;34m)\u001b[0m\u001b[0;34m:\u001b[0m\u001b[0;34m\u001b[0m\u001b[0m\n",
      "\u001b[0;32m~/miniconda3/lib/python3.5/site-packages/pystan/api.py\u001b[0m in \u001b[0;36mstanc\u001b[0;34m(file, charset, model_code, model_name, verbose, obfuscate_model_name)\u001b[0m\n\u001b[1;32m    132\u001b[0m             \u001b[0mmsg\u001b[0m \u001b[0;34m=\u001b[0m \u001b[0mmsg\u001b[0m\u001b[0;34m.\u001b[0m\u001b[0mencode\u001b[0m\u001b[0;34m(\u001b[0m\u001b[0;34m'ascii'\u001b[0m\u001b[0;34m,\u001b[0m \u001b[0;34m'replace'\u001b[0m\u001b[0;34m)\u001b[0m\u001b[0;34m\u001b[0m\u001b[0m\n\u001b[1;32m    133\u001b[0m         \u001b[0merror_msg\u001b[0m \u001b[0;34m=\u001b[0m \u001b[0;34m\"Failed to parse Stan model '{}'. Error message:\\n{}\"\u001b[0m\u001b[0;34m.\u001b[0m\u001b[0mformat\u001b[0m\u001b[0;34m(\u001b[0m\u001b[0mmodel_name\u001b[0m\u001b[0;34m,\u001b[0m \u001b[0mmsg\u001b[0m\u001b[0;34m)\u001b[0m\u001b[0;34m\u001b[0m\u001b[0m\n\u001b[0;32m--> 134\u001b[0;31m         \u001b[0;32mraise\u001b[0m \u001b[0mValueError\u001b[0m\u001b[0;34m(\u001b[0m\u001b[0merror_msg\u001b[0m\u001b[0;34m)\u001b[0m\u001b[0;34m\u001b[0m\u001b[0m\n\u001b[0m\u001b[1;32m    135\u001b[0m     \u001b[0;32melif\u001b[0m \u001b[0mresult\u001b[0m\u001b[0;34m[\u001b[0m\u001b[0;34m'status'\u001b[0m\u001b[0;34m]\u001b[0m \u001b[0;34m==\u001b[0m \u001b[0;36m0\u001b[0m\u001b[0;34m:\u001b[0m  \u001b[0;31m# SUCCESS_RC is 0\u001b[0m\u001b[0;34m\u001b[0m\u001b[0m\n\u001b[1;32m    136\u001b[0m         \u001b[0mlogger\u001b[0m\u001b[0;34m.\u001b[0m\u001b[0mdebug\u001b[0m\u001b[0;34m(\u001b[0m\u001b[0;34m\"Successfully parsed Stan model '{}'.\"\u001b[0m\u001b[0;34m.\u001b[0m\u001b[0mformat\u001b[0m\u001b[0;34m(\u001b[0m\u001b[0mmodel_name\u001b[0m\u001b[0;34m)\u001b[0m\u001b[0;34m)\u001b[0m\u001b[0;34m\u001b[0m\u001b[0m\n",
      "\u001b[0;31mValueError\u001b[0m: Failed to parse Stan model 'anon_model_54381e03b96ae1a1f2eec9234a3aab72'. Error message:\nSYNTAX ERROR, MESSAGE(S) FROM PARSER:\n\nNo matches for: \n\n  dot_product(real[,], real[,])\n\nAvailable argument signatures for dot_product:\n\n  dot_product(vector, vector)\n  dot_product(row vector, row vector)\n  dot_product(vector, row vector)\n  dot_product(row vector, vector)\n  dot_product(real[], real[])\n\n  error in 'unkown file name' at line 16, column 67\n  -------------------------------------------------\n    14: }\n    15: transformed parameters{\n    16:     matrix[784, 100] act_1 = tanh(dot_product(input, weights_in_1))\n                                                                          ^\n    17:     matrix[100, 10] act_2 = tanh(dot_product(act_1, weights_1_2))\n  -------------------------------------------------\n\n"
     ]
    }
   ],
   "source": [
    "n_hidden = 100\n",
    "n_classes = 10\n",
    "\n",
    "# Initialize random weights between each layer\n",
    "init_1 = np.random.randn(data.shape[1], n_hidden).astype('float32')\n",
    "init_2 = np.random.randn(n_hidden, n_classes).astype('float32')\n",
    "init_out = np.random.randn(n_classes).astype('float32')\n",
    "\n",
    "data_dict = {'init_1': init_1, 'init_2': init_2 ,'init_out' : init_out, 'input' : X_train, 'output' : Y_train}\n",
    "\n",
    "fit_model = StanModel(model_code=model)\n",
    "\n",
    "fit = fit_model.sampling(data=data_dict, iter=1000, chains=1)\n",
    "#fit_eps = pystan.stan(model_code=model, data=data_dict, iter=1000, chains=1)\n",
    "print(fit)"
   ]
  }
 ],
 "metadata": {
  "kernelspec": {
   "display_name": "Python 3",
   "language": "python",
   "name": "python3"
  },
  "language_info": {
   "codemirror_mode": {
    "name": "ipython",
    "version": 3
   },
   "file_extension": ".py",
   "mimetype": "text/x-python",
   "name": "python",
   "nbconvert_exporter": "python",
   "pygments_lexer": "ipython3",
   "version": "3.5.3"
  }
 },
 "nbformat": 4,
 "nbformat_minor": 2
}
