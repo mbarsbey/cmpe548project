{
 "cells": [
  {
   "cell_type": "code",
   "execution_count": 18,
   "metadata": {},
   "outputs": [],
   "source": [
    "import numpy as np\n",
    "import matplotlib.pyplot as plt\n",
    "%matplotlib inline\n",
    "\n",
    "from scipy.stats import multivariate_normal\n",
    "from sklearn.decomposition import PCA"
   ]
  },
  {
   "cell_type": "code",
   "execution_count": 19,
   "metadata": {},
   "outputs": [],
   "source": [
    "def reduceDimAndVisualize(data):\n",
    "\n",
    "    pca = PCA(n_components=2)\n",
    "    pca.fit(data)\n",
    "\n",
    "    reconstructed = np.matmul(data, pca.components_.T)\n",
    "    \n",
    "    plt.figure()\n",
    "    plt.hist2d(reconstructed[:,0], reconstructed[:,1], bins=50)"
   ]
  },
  {
   "cell_type": "code",
   "execution_count": 20,
   "metadata": {},
   "outputs": [
    {
     "data": {
      "image/png": "[encoded data removed]",
      "text/plain": [
       "<matplotlib.figure.Figure at 0x7f8e7bb08048>"
      ]
     },
     "metadata": {},
     "output_type": "display_data"
    }
   ],
   "source": [
    "# 20D Gaussian with 0 mean\n",
    "mean = np.zeros((20),dtype=int)\n",
    "covar = np.identity(20, dtype=int)\n",
    "\n",
    "# 20D Gaussian with 1 mean\n",
    "mean2 = np.ones(20, dtype=int)\n",
    "covar2 = np.identity(20, dtype=int)\n",
    "\n",
    "X2 = multivariate_normal(mean2, covar2)\n",
    "\n",
    "X = multivariate_normal(mean, covar)\n",
    "data = X.rvs(5000)\n",
    "data2 = X2.rvs(5000)\n",
    "\n",
    "# Mixture of Gaussians\n",
    "mdata = np.concatenate((data, data2), axis=0)\n",
    "\n",
    "# Reduce the dim and visualize\n",
    "reduceDimAndVisualize(mdata)"
   ]
  }
 ],
 "metadata": {
  "kernelspec": {
   "display_name": "Python 3",
   "language": "python",
   "name": "python3"
  },
  "language_info": {
   "codemirror_mode": {
    "name": "ipython",
    "version": 3
   },
   "file_extension": ".py",
   "mimetype": "text/x-python",
   "name": "python",
   "nbconvert_exporter": "python",
   "pygments_lexer": "ipython3",
   "version": "3.5.3"
  }
 },
 "nbformat": 4,
 "nbformat_minor": 2
}
