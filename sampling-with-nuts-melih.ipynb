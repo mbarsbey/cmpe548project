{
 "cells": [
  {
   "cell_type": "markdown",
   "metadata": {},
   "source": [
    "# Comparison of MHMCMC and NUTS for Multivariate Gaussian and Ring"
   ]
  },
  {
   "cell_type": "code",
   "execution_count": null,
   "metadata": {
    "collapsed": true
   },
   "outputs": [],
   "source": [
    "import pymc3 as pm\n",
    "import numpy as np\n",
    "import matplotlib.pyplot as plt\n",
    "import pickle\n",
    "import os\n",
    "import seaborn as sns\n",
    "plt.style.use('seaborn')\n",
    "sns.set_context(\"poster\",font_scale=1)\n",
    "%matplotlib inline"
   ]
  },
  {
   "cell_type": "markdown",
   "metadata": {},
   "source": [
    "## 50 dimensional, highly correlated Gaussian"
   ]
  },
  {
   "cell_type": "markdown",
   "metadata": {},
   "source": [
    "Creating the data for the background distribution image."
   ]
  },
  {
   "cell_type": "code",
   "execution_count": null,
   "metadata": {
    "scrolled": true
   },
   "outputs": [],
   "source": [
    "N = 1000000\n",
    "ndim= 50\n",
    "try:\n",
    "    with open(\"50dim0.7covar1000000.pkl\", \"rb\") as f:\n",
    "        background_y = pickle.load(f)\n",
    "except:\n",
    "    mv_model = pm.Model()\n",
    "    cov = np.identity(ndim)\n",
    "    mu = np.zeros(ndim)\n",
    "    np.place(cov, cov==0, 0.7)\n",
    "    with mv_model:\n",
    "        y = pm.MvNormal('y', mu=mu, cov=cov, shape=(1,ndim))\n",
    "        #step = pm.Metropolis()\n",
    "        trace = pm.sample(N)\n",
    "    #pm.traceplot(trace)\n",
    "    background_y = trace.get_values(\"y\")"
   ]
  },
  {
   "cell_type": "code",
   "execution_count": null,
   "metadata": {
    "collapsed": true
   },
   "outputs": [],
   "source": [
    "background_y = background_y.reshape(N, ndim)"
   ]
  },
  {
   "cell_type": "markdown",
   "metadata": {},
   "source": [
    "Converting the distribution to 2 dimensional."
   ]
  },
  {
   "cell_type": "code",
   "execution_count": null,
   "metadata": {
    "collapsed": true
   },
   "outputs": [],
   "source": [
    "from sklearn.decomposition import PCA\n",
    "pca = PCA(n_components=2)\n",
    "background_y = pca.fit_transform(background_y)"
   ]
  },
  {
   "cell_type": "markdown",
   "metadata": {},
   "source": [
    "Sampling from the distribution using both methods"
   ]
  },
  {
   "cell_type": "code",
   "execution_count": null,
   "metadata": {},
   "outputs": [],
   "source": [
    "sample_N = 500\n",
    "cov = np.identity(ndim)\n",
    "mu = np.zeros(ndim)\n",
    "np.place(cov, cov==0, 0.7)\n",
    "\n",
    "metr_mv_model = pm.Model()\n",
    "nuts_mv_model = pm.Model()\n",
    "\n",
    "with metr_mv_model:\n",
    "    y = pm.MvNormal('y', mu=mu, cov=cov, shape=(ndim))\n",
    "    step = pm.Metropolis(vars=[y])\n",
    "    trace = pm.sample(sample_N/2, step=step, tune=1000)\n",
    "metr_y = trace.get_values(\"y\")\n",
    "metr_y = metr_y.reshape(sample_N, ndim)\n",
    "metr_y = pca.transform(metr_y)\n",
    "\n",
    "with nuts_mv_model:\n",
    "    y = pm.MvNormal('y', mu=mu, cov=cov, shape=(ndim))\n",
    "    step = pm.NUTS(vars=[y])\n",
    "    trace = pm.sample(sample_N/2, step=step, tune=1000)\n",
    "nuts_y = trace.get_values(\"y\")\n",
    "nuts_y = nuts_y.reshape(sample_N, ndim)\n",
    "nuts_y = pca.transform(nuts_y)"
   ]
  },
  {
   "cell_type": "markdown",
   "metadata": {},
   "source": [
    "Plotting first 500 samples for both sampling methods."
   ]
  },
  {
   "cell_type": "code",
   "execution_count": null,
   "metadata": {
    "scrolled": true
   },
   "outputs": [],
   "source": [
    "#Plotting both sampling versions\n",
    "f, (ax1, ax2) = plt.subplots(2,1, sharex=True)\n",
    "f.set_size_inches(12,6)\n",
    "ax1.grid(False)\n",
    "ax2.grid(False)\n",
    "_ = ax1.hist2d(x=background_y[:,0], y=background_y[:,1], bins=100, cmap=\"viridis\")\n",
    "_ = ax1.set_xlim(-18, 18)\n",
    "_ = ax1.plot(metr_y.transpose()[0,:], metr_y.transpose()[1,:],\"r\", lw=1.5)\n",
    "_ = ax1.set_title(\"First 500 samples using MHMCMC\")\n",
    "\n",
    "_ = ax2.hist2d(x=background_y[:,0], y=background_y[:,1], bins=100, cmap=\"viridis\")\n",
    "_ = ax2.set_xlim(-18, 18)\n",
    "_ = ax2.plot(nuts_y.transpose()[0,:], nuts_y.transpose()[1,:], \"r\", lw=1.5)\n",
    "_ = ax2.set_title(\"First 500 samples using HMC-NUTS\")\n",
    "#f.suptitle(\"Sampling from a 50-d multivariate Gaussian with high covariance\", fontsize=22, y=1)\n",
    "f.savefig(\"50dim.jpg\", dpi=500)"
   ]
  },
  {
   "cell_type": "markdown",
   "metadata": {
    "collapsed": true
   },
   "source": [
    "\n",
    "## Ring"
   ]
  },
  {
   "cell_type": "markdown",
   "metadata": {},
   "source": [
    "Creating the data for the background image."
   ]
  },
  {
   "cell_type": "code",
   "execution_count": null,
   "metadata": {
    "scrolled": true
   },
   "outputs": [],
   "source": [
    "ring_model = pm.Model()\n",
    "N = 100000\n",
    "ndim = 2\n",
    "\n",
    "try:\n",
    "    with open(\"ring2dim100000_v3.pkl\", \"rb\") as f:\n",
    "        background_y = pickle.load(f)\n",
    "except:\n",
    "    with ring_model:\n",
    "        mu = pm.Normal('mu', mu=0, sd=1, shape=(ndim), testval=0.1)\n",
    "        mu_circle = pm.Deterministic(\"mu_circle\", 5*(mu/np.sqrt((mu**2).sum())))\n",
    "        y = pm.MvNormal('y', mu=mu_circle, cov=np.identity(ndim)/10, shape=(1,ndim))\n",
    "        step = pm.NUTS([mu, y])\n",
    "        trace = pm.sample(N, step=step, tune=1000)\n",
    "    background_y = trace.get_values(\"y\")"
   ]
  },
  {
   "cell_type": "code",
   "execution_count": null,
   "metadata": {
    "collapsed": true
   },
   "outputs": [],
   "source": [
    "background_y = background_y.reshape(N, ndim)"
   ]
  },
  {
   "cell_type": "markdown",
   "metadata": {},
   "source": [
    "Sampling from the distribution."
   ]
  },
  {
   "cell_type": "code",
   "execution_count": null,
   "metadata": {},
   "outputs": [],
   "source": [
    "sample_N = 250\n",
    "\n",
    "metr_ring_model = pm.Model()\n",
    "nuts_ring_model = pm.Model()\n",
    "\n",
    "with metr_ring_model:\n",
    "    mu = pm.Normal('mu', mu=0, sd=1, shape=ndim, testval=0.1)\n",
    "    mu_circle = pm.Deterministic(\"mu_circle\", 5*(mu/np.sqrt((mu**2).sum())))\n",
    "    y = pm.MvNormal('y', mu=mu_circle.flatten(), cov=np.identity(ndim)/10, shape=(ndim))\n",
    "    step = pm.Metropolis(vars=[mu, y, mu_circle])\n",
    "    trace = pm.sample(sample_N/2, step=step, tune=1000)\n",
    "metr_ring_y = trace.get_values(\"y\")\n",
    "metr_ring_y = metr_ring_y.reshape(sample_N, ndim)\n",
    "\n",
    "with nuts_ring_model:\n",
    "    mu = pm.Normal('mu', mu=0, sd=1, shape=(ndim), testval=0.1)\n",
    "    mu_circle = pm.Deterministic(\"mu_circle\", 5*(mu/np.sqrt((mu**2).sum())))\n",
    "    y = pm.MvNormal('y', mu=mu_circle, cov=np.identity(ndim)/10, shape=(ndim))\n",
    "    step = pm.NUTS([mu, y])\n",
    "    trace = pm.sample(sample_N/2, step=step, tune=1000)\n",
    "nuts_ring_y = trace.get_values(\"y\")\n",
    "nuts_ring_y = nuts_ring_y.reshape(sample_N, ndim)"
   ]
  },
  {
   "cell_type": "markdown",
   "metadata": {},
   "source": [
    "Visualizing."
   ]
  },
  {
   "cell_type": "code",
   "execution_count": null,
   "metadata": {
    "scrolled": true
   },
   "outputs": [],
   "source": [
    "f, (ax1, ax2) = plt.subplots(1,2, sharey=True)\n",
    "f.set_size_inches(12,6)\n",
    "ax1.grid(False)\n",
    "ax2.grid(False)\n",
    "_ = ax1.hist2d(x=background_y.transpose()[0,:], y=background_y.transpose()[1,:],bins=100, cmax=100, cmap=\"viridis\")\n",
    "_ = ax1.plot(metr_ring_y.transpose()[0,:], metr_ring_y.transpose()[1,:], \"r\", lw=1.5)\n",
    "_ = ax1.set_title(\"First 500 samples using MHMCMC\")\n",
    "\n",
    "_ = ax2.hist2d(x=background_y.transpose()[0,:], y=background_y.transpose()[1,:],bins=100, cmax=100, cmap=\"viridis\")\n",
    "_ = ax2.plot(nuts_ring_y.transpose()[0,:], nuts_ring_y.transpose()[1,:], \"r\", lw=1.5)\n",
    "_ = ax2.set_title(\"First 500 samples using HMC-NUTS\")\n",
    "#f.suptitle(\"Sampling from a 2-d annulus\", fontsize=22, y=1)\n",
    "f.savefig(\"ring.jpg\", dpi=500)"
   ]
  }
 ],
 "metadata": {
  "kernelspec": {
   "display_name": "Python 3",
   "language": "python",
   "name": "python3"
  },
  "language_info": {
   "codemirror_mode": {
    "name": "ipython",
    "version": 3
   },
   "file_extension": ".py",
   "mimetype": "text/x-python",
   "name": "python",
   "nbconvert_exporter": "python",
   "pygments_lexer": "ipython3",
   "version": "3.5.2"
  }
 },
 "nbformat": 4,
 "nbformat_minor": 2
}
