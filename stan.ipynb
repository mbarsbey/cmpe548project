{
 "cells": [
  {
   "cell_type": "code",
   "execution_count": 49,
   "metadata": {},
   "outputs": [],
   "source": [
    "import pystan\n",
    "import numpy as np\n",
    "import pickle\n",
    "\n",
    "model = \"\"\"\n",
    "data {\n",
    "    int N;\n",
    "    int M;\n",
    "    real<lower=0>  V[N,M];\n",
    "}\n",
    "parameters {\n",
    "    //real<lower=0> lambda;\n",
    "    real<lower=0> W[N,2];\n",
    "    real<lower=0> H[2,M];\n",
    "    real eps;\n",
    "}\n",
    "model {\n",
    "    eps ~ normal(0,1);\n",
    "    for (i in 1:N)\n",
    "        for (j in 1:2)\n",
    "            W[i,j] ~ exponential(0.5);\n",
    "        \n",
    "    for (i in 1:2)\n",
    "        for (j in 1:M)\n",
    "            H[i,j] ~ exponential(0.5);\n",
    "    \n",
    "    for (i in 1:N)\n",
    "        for (j in 1:M)\n",
    "            V[i,j] ~ normal(W[i,1]*H[1,j]+W[i,2]*H[2,j], eps);\n",
    "}\n",
    "\"\"\"\n",
    "data = np.matrix([[36, 3, 45, 54], \\\n",
    "                            [4, 34, 23, 31], \\\n",
    "                            [9, 65, 11, 0], \\\n",
    "                            [17, 3, 3, 0], \\\n",
    "                            [0, 14, 7, 4]])"
   ]
  },
  {
   "cell_type": "code",
   "execution_count": 53,
   "metadata": {},
   "outputs": [
    {
     "name": "stdout",
     "output_type": "stream",
     "text": [
      "Inference for Stan model: anon_model_3af51e32c9a82cadff167620130feac4.\n",
      "1 chains, each with iter=1000; warmup=500; thin=1; \n",
      "post-warmup draws per chain=500, total post-warmup draws=500.\n",
      "\n",
      "         mean se_mean     sd   2.5%    25%    50%    75%  97.5%  n_eff   Rhat\n",
      "W[0,0]   9.84    0.21   2.71   5.72   7.79   9.34  11.51  16.35    164    1.0\n",
      "W[1,0]    4.0    0.09   1.24   2.19   3.09   3.89   4.66   7.09    193    1.0\n",
      "W[2,0]   0.46    0.02    0.4   0.01   0.15   0.36   0.65   1.45    357    1.0\n",
      "W[3,0]    0.9    0.04   0.54   0.07    0.5   0.84   1.24   2.15    179    1.0\n",
      "W[4,0]    0.7    0.03   0.44   0.07   0.38   0.62   0.93   1.71    301   1.01\n",
      "W[0,1]    0.4    0.02   0.36 9.0e-3   0.13   0.31   0.58   1.36    500    1.0\n",
      "W[1,1]   3.87     0.1   1.26   2.05   2.94   3.61   4.62   6.66    166    1.0\n",
      "W[2,1]    7.8    0.17    2.3   4.55   6.11   7.47   9.04   13.2    176   1.01\n",
      "W[3,1]   0.56    0.02    0.4   0.05   0.27   0.48   0.77   1.59    500    1.0\n",
      "W[4,1]    1.6    0.05   0.72    0.4    1.1   1.48    2.0   3.21    228    1.0\n",
      "H[0,0]   3.42    0.08   0.98   1.89   2.68    3.3   3.99   5.63    164    1.0\n",
      "H[1,0]   0.56    0.02   0.41   0.03   0.23   0.48    0.8   1.54    361    1.0\n",
      "H[0,1]   0.38    0.02   0.31   0.01   0.15   0.31   0.55   1.06    322   1.01\n",
      "H[1,1]   8.75    0.17   2.51    4.9   6.83   8.38  10.42  14.76    208   1.01\n",
      "H[0,2]   4.78    0.11   1.35   2.65   3.78    4.6   5.62   7.75    145    1.0\n",
      "H[1,2]   1.19    0.03   0.64   0.18   0.76   1.13   1.54   2.75    378    1.0\n",
      "H[0,3]   5.94    0.13    1.6   3.38   4.77   5.79   6.93   9.44    147    1.0\n",
      "H[1,3]   0.42    0.02   0.37   0.02   0.13   0.31   0.63   1.38    500    1.0\n",
      "eps      4.34    0.02   0.43   3.57   4.02    4.3   4.63   5.22    302    1.0\n",
      "lp__    -79.8     0.3   3.56 -87.58 -81.82 -79.52 -77.28 -73.79    145    1.0\n",
      "\n",
      "Samples were drawn using NUTS at Sat Dec 23 15:24:31 2017.\n",
      "For each parameter, n_eff is a crude measure of effective sample size,\n",
      "and Rhat is the potential scale reduction factor on split chains (at \n",
      "convergence, Rhat=1).\n"
     ]
    }
   ],
   "source": [
    "data_dict = {'N': data.shape[0], 'M': data.shape[1] ,'V' : data}\n",
    "#fit_eps = pystan.stan(model_code=model, data=data_dict, iter=1000, chains=1)\n",
    "print(fit_eps)"
   ]
  },
  {
   "cell_type": "code",
   "execution_count": 48,
   "metadata": {},
   "outputs": [
    {
     "data": {
      "text/plain": [
       "500"
      ]
     },
     "execution_count": 48,
     "metadata": {},
     "output_type": "execute_result"
    }
   ],
   "source": [
    "len(fit.extract()['H'])"
   ]
  },
  {
   "cell_type": "code",
   "execution_count": 74,
   "metadata": {},
   "outputs": [
    {
     "ename": "TypeError",
     "evalue": "iteration over a 0-d array",
     "output_type": "error",
     "traceback": [
      "\u001b[0;31m---------------------------------------------------------------------------\u001b[0m",
      "\u001b[0;31mTypeError\u001b[0m                                 Traceback (most recent call last)",
      "\u001b[0;32m<ipython-input-74-d475c0695685>\u001b[0m in \u001b[0;36m<module>\u001b[0;34m()\u001b[0m\n\u001b[1;32m      1\u001b[0m \u001b[0mW\u001b[0m \u001b[0;34m=\u001b[0m \u001b[0mfit_eps\u001b[0m\u001b[0;34m.\u001b[0m\u001b[0mextract\u001b[0m\u001b[0;34m(\u001b[0m\u001b[0;34m[\u001b[0m\u001b[0;34m'W'\u001b[0m\u001b[0;34m]\u001b[0m\u001b[0;34m)\u001b[0m\u001b[0;34m\u001b[0m\u001b[0m\n\u001b[1;32m      2\u001b[0m \u001b[0mW\u001b[0m \u001b[0;34m=\u001b[0m \u001b[0mnp\u001b[0m\u001b[0;34m.\u001b[0m\u001b[0marray\u001b[0m\u001b[0;34m(\u001b[0m\u001b[0mW\u001b[0m\u001b[0;34m)\u001b[0m\u001b[0;34m\u001b[0m\u001b[0m\n\u001b[0;32m----> 3\u001b[0;31m \u001b[0mfit_eps\u001b[0m\u001b[0;34m.\u001b[0m\u001b[0mplot\u001b[0m\u001b[0;34m(\u001b[0m\u001b[0mW\u001b[0m\u001b[0;34m)\u001b[0m\u001b[0;34m\u001b[0m\u001b[0m\n\u001b[0m",
      "\u001b[0;32mstanfit4anon_model_3af51e32c9a82cadff167620130feac4_5340812891724959026.pyx\u001b[0m in \u001b[0;36mstanfit4anon_model_3af51e32c9a82cadff167620130feac4_5340812891724959026.StanFit4Model.plot (/tmp/tmpjn4dlmc1/stanfit4anon_model_3af51e32c9a82cadff167620130feac4_5340812891724959026.cpp:10399)\u001b[0;34m()\u001b[0m\n",
      "\u001b[0;32m/usr/local/lib/python3.5/dist-packages/pystan/misc.py\u001b[0m in \u001b[0;36m_remove_empty_pars\u001b[0;34m(pars, pars_oi, dims_oi)\u001b[0m\n\u001b[1;32m   1106\u001b[0m     \u001b[0mpars_trimmed\u001b[0m\u001b[0;34m:\u001b[0m \u001b[0mlist\u001b[0m \u001b[0mof\u001b[0m \u001b[0mstr\u001b[0m\u001b[0;34m\u001b[0m\u001b[0m\n\u001b[1;32m   1107\u001b[0m     \"\"\"\n\u001b[0;32m-> 1108\u001b[0;31m     \u001b[0mpars\u001b[0m \u001b[0;34m=\u001b[0m \u001b[0mlist\u001b[0m\u001b[0;34m(\u001b[0m\u001b[0mpars\u001b[0m\u001b[0;34m)\u001b[0m\u001b[0;34m\u001b[0m\u001b[0m\n\u001b[0m\u001b[1;32m   1109\u001b[0m     \u001b[0;32mfor\u001b[0m \u001b[0mpar\u001b[0m\u001b[0;34m,\u001b[0m \u001b[0mdim\u001b[0m \u001b[0;32min\u001b[0m \u001b[0mzip\u001b[0m\u001b[0;34m(\u001b[0m\u001b[0mpars_oi\u001b[0m\u001b[0;34m,\u001b[0m \u001b[0mdims_oi\u001b[0m\u001b[0;34m)\u001b[0m\u001b[0;34m:\u001b[0m\u001b[0;34m\u001b[0m\u001b[0m\n\u001b[1;32m   1110\u001b[0m         \u001b[0;32mif\u001b[0m \u001b[0mpar\u001b[0m \u001b[0;32min\u001b[0m \u001b[0mpars\u001b[0m \u001b[0;32mand\u001b[0m \u001b[0mnp\u001b[0m\u001b[0;34m.\u001b[0m\u001b[0mprod\u001b[0m\u001b[0;34m(\u001b[0m\u001b[0mdim\u001b[0m\u001b[0;34m)\u001b[0m \u001b[0;34m==\u001b[0m \u001b[0;36m0\u001b[0m\u001b[0;34m:\u001b[0m\u001b[0;34m\u001b[0m\u001b[0m\n",
      "\u001b[0;31mTypeError\u001b[0m: iteration over a 0-d array"
     ]
    }
   ],
   "source": [
    "W = fit_eps.extract(['W'])\n",
    "\n",
    "fit_eps.plot(W)"
   ]
  },
  {
   "cell_type": "code",
   "execution_count": 22,
   "metadata": {
    "scrolled": true
   },
   "outputs": [
    {
     "name": "stderr",
     "output_type": "stream",
     "text": [
      "INFO:pystan:COMPILING THE C++ CODE FOR MODEL anon_model_157ebfa8e4d63a708b8a68979b07955a NOW.\n"
     ]
    },
    {
     "name": "stdout",
     "output_type": "stream",
     "text": [
      "OrderedDict([('W', array([[ 0.15348321,  9.05577542],\n",
      "       [ 3.35713715,  3.81300791],\n",
      "       [ 6.6267781 ,  0.32614392],\n",
      "       [ 0.29249375,  0.97160007],\n",
      "       [ 1.43342333,  0.6036792 ]])), ('H', array([[ 0.35078532,  9.81816608,  1.42797337,  0.16807357],\n",
      "       [ 3.61826211,  0.17755765,  4.90829185,  6.19188884]]))])\n"
     ]
    }
   ],
   "source": [
    "sm = pystan.StanModel(model_code=model)\n",
    "\n",
    "#with open('model.pkl', 'wb') as f:\n",
    "\n",
    "op = sm.optimizing(data=data_dict)\n",
    "print(op)"
   ]
  },
  {
   "cell_type": "code",
   "execution_count": 28,
   "metadata": {},
   "outputs": [
    {
     "data": {
      "text/plain": [
       "array([[ 32.8200087 ,   3.1148458 ,  44.66755859,  56.09815125],\n",
       "       [ 14.97409645,  33.63795879,  23.50925809,  24.17396716],\n",
       "       [  3.50465066,  65.12071734,  11.06367224,   3.13323319],\n",
       "       [  3.61810623,   3.04426726,   5.18656999,   6.0652001 ],\n",
       "       [  2.68709342,  14.18077617,   5.00992403,   3.97883507]])"
      ]
     },
     "execution_count": 28,
     "metadata": {},
     "output_type": "execute_result"
    }
   ],
   "source": [
    "np.matmul(op['W'], op['H'])"
   ]
  },
  {
   "cell_type": "code",
   "execution_count": null,
   "metadata": {
    "collapsed": true
   },
   "outputs": [],
   "source": [
    "np.mat"
   ]
  }
 ],
 "metadata": {
  "kernelspec": {
   "display_name": "Python 3",
   "language": "python",
   "name": "python3"
  },
  "language_info": {
   "codemirror_mode": {
    "name": "ipython",
    "version": 3
   },
   "file_extension": ".py",
   "mimetype": "text/x-python",
   "name": "python",
   "nbconvert_exporter": "python",
   "pygments_lexer": "ipython3",
   "version": "3.5.2"
  }
 },
 "nbformat": 4,
 "nbformat_minor": 2
}
