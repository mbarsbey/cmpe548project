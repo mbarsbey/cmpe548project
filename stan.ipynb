{
 "cells": [
  {
   "cell_type": "code",
   "execution_count": 20,
   "metadata": {},
   "outputs": [
    {
     "name": "stderr",
     "output_type": "stream",
     "text": [
      "INFO:pystan:COMPILING THE C++ CODE FOR MODEL anon_model_c88324283aaadf3d43d98769db5ec23c NOW.\n"
     ]
    }
   ],
   "source": [
    "import pystan\n",
    "from pystan import StanModel\n",
    "import numpy as np\n",
    "import pickle\n",
    "import os\n",
    "\n",
    "model = \"\"\"\n",
    "data {\n",
    "}\n",
    "parameters {\n",
    "real y;\n",
    "}\n",
    "model {\n",
    "    y ~ von_mises(0,1);\n",
    "}\n",
    "\"\"\"\n",
    "fit_model = StanModel(model_code=model)\n"
   ]
  },
  {
   "cell_type": "code",
   "execution_count": 27,
   "metadata": {
    "collapsed": true
   },
   "outputs": [],
   "source": [
    "fit = fit_model.sampling(iter=1000, chains=1)"
   ]
  },
  {
   "cell_type": "code",
   "execution_count": 28,
   "metadata": {},
   "outputs": [
    {
     "data": {
      "image/png": "[encoded data removed]",
      "text/plain": [
       "<matplotlib.figure.Figure at 0x7fda1015f7b8>"
      ]
     },
     "execution_count": 28,
     "metadata": {},
     "output_type": "execute_result"
    }
   ],
   "source": [
    "fit.plot()"
   ]
  },
  {
   "cell_type": "code",
   "execution_count": 1,
   "metadata": {
    "collapsed": true
   },
   "outputs": [],
   "source": [
    "import pystan\n",
    "from pystan import StanModel\n",
    "import numpy as np\n",
    "import pickle\n",
    "import os\n",
    "\n",
    "model = \"\"\"\n",
    "data {\n",
    "    int N;\n",
    "    int M;\n",
    "    real<lower=0>  V[N,M];\n",
    "}\n",
    "parameters {\n",
    "    //real<lower=0> lambda;\n",
    "    real<lower=0> W[N,2];\n",
    "    real<lower=0> H[2,M];\n",
    "    real eps;\n",
    "}\n",
    "model {\n",
    "    eps ~ normal(0,1);\n",
    "    for (i in 1:N)\n",
    "        for (j in 1:2)\n",
    "            W[i,j] ~ exponential(0.5);\n",
    "        \n",
    "    for (i in 1:2)\n",
    "        for (j in 1:M)\n",
    "            H[i,j] ~ exponential(0.5);\n",
    "    \n",
    "    for (i in 1:N)\n",
    "        for (j in 1:M)\n",
    "            V[i,j] ~ normal(W[i,1]*H[1,j]+W[i,2]*H[2,j], eps);\n",
    "}\n",
    "\"\"\"\n",
    "data = np.matrix([[36, 3, 45, 54], \\\n",
    "                            [4, 34, 23, 31], \\\n",
    "                            [9, 65, 11, 0], \\\n",
    "                            [17, 3, 3, 0], \\\n",
    "                            [0, 14, 7, 4]])"
   ]
  },
  {
   "cell_type": "code",
   "execution_count": 3,
   "metadata": {},
   "outputs": [
    {
     "ename": "EOFError",
     "evalue": "Ran out of input",
     "output_type": "error",
     "traceback": [
      "\u001b[0;31m---------------------------------------------------------------------------\u001b[0m",
      "\u001b[0;31mEOFError\u001b[0m                                  Traceback (most recent call last)",
      "\u001b[0;32m<ipython-input-3-e56935426dab>\u001b[0m in \u001b[0;36m<module>\u001b[0;34m()\u001b[0m\n\u001b[1;32m      2\u001b[0m \u001b[0;34m\u001b[0m\u001b[0m\n\u001b[1;32m      3\u001b[0m \u001b[0;32mif\u001b[0m \u001b[0mos\u001b[0m\u001b[0;34m.\u001b[0m\u001b[0mpath\u001b[0m\u001b[0;34m.\u001b[0m\u001b[0mexists\u001b[0m\u001b[0;34m(\u001b[0m\u001b[0;34m'model.pkl'\u001b[0m\u001b[0;34m)\u001b[0m\u001b[0;34m:\u001b[0m\u001b[0;34m\u001b[0m\u001b[0m\n\u001b[0;32m----> 4\u001b[0;31m     \u001b[0mfit_model\u001b[0m \u001b[0;34m=\u001b[0m \u001b[0mpickle\u001b[0m\u001b[0;34m.\u001b[0m\u001b[0mload\u001b[0m\u001b[0;34m(\u001b[0m\u001b[0mopen\u001b[0m\u001b[0;34m(\u001b[0m\u001b[0;34m'model.pkl'\u001b[0m\u001b[0;34m,\u001b[0m \u001b[0;34m'rb'\u001b[0m\u001b[0;34m)\u001b[0m\u001b[0;34m)\u001b[0m\u001b[0;34m\u001b[0m\u001b[0m\n\u001b[0m\u001b[1;32m      5\u001b[0m \u001b[0;32melse\u001b[0m\u001b[0;34m:\u001b[0m\u001b[0;34m\u001b[0m\u001b[0m\n\u001b[1;32m      6\u001b[0m     \u001b[0;32mwith\u001b[0m \u001b[0mopen\u001b[0m\u001b[0;34m(\u001b[0m\u001b[0;34m'model.pkl'\u001b[0m\u001b[0;34m,\u001b[0m \u001b[0;34m'wb+'\u001b[0m\u001b[0;34m)\u001b[0m \u001b[0;32mas\u001b[0m \u001b[0mf\u001b[0m\u001b[0;34m:\u001b[0m\u001b[0;34m\u001b[0m\u001b[0m\n",
      "\u001b[0;31mEOFError\u001b[0m: Ran out of input"
     ]
    }
   ],
   "source": [
    "data_dict = {'N': data.shape[0], 'M': data.shape[1] ,'V' : data}\n",
    "\n",
    "if os.path.exists('model.pkl'):\n",
    "    fit_model = pickle.load(open('model.pkl', 'rb'))\n",
    "else:   \n",
    "    with open('model.pkl', 'wb+') as f:\n",
    "        fit_model = StanModel(model_code=model)\n",
    "        pickle.dump(fit_model, f)\n",
    "    \n",
    "\n",
    "fit = fit_model.sampling(data=data_dict, iter=1000, chains=1)\n",
    "#fit_eps = pystan.stan(model_code=model, data=data_dict, iter=1000, chains=1)\n",
    "print(fit)"
   ]
  },
  {
   "cell_type": "code",
   "execution_count": 4,
   "metadata": {},
   "outputs": [
    {
     "name": "stdout",
     "output_type": "stream",
     "text": [
      "Inference for Stan model: anon_model_3af51e32c9a82cadff167620130feac4.\n",
      "1 chains, each with iter=1000; warmup=500; thin=1; \n",
      "post-warmup draws per chain=500, total post-warmup draws=500.\n",
      "\n",
      "         mean se_mean     sd   2.5%    25%    50%    75%  97.5%  n_eff   Rhat\n",
      "W[0,0]   9.68    0.19   2.43   5.93    7.9    9.3  11.35  14.94    160   1.01\n",
      "W[1,0]   3.89    0.08   1.09   2.21   3.12   3.69   4.57   6.55    204    1.0\n",
      "W[2,0]   0.43    0.02   0.37 1.7e-3   0.15   0.34   0.61   1.31    398    1.0\n",
      "W[3,0]   0.93    0.03   0.54    0.1   0.54   0.86   1.26   2.24    347    1.0\n",
      "W[4,0]   0.69    0.02   0.49   0.04   0.32   0.59   0.93   1.92    500    1.0\n",
      "W[0,1]    0.4    0.02   0.34   0.01   0.14   0.31   0.58   1.35    347    1.0\n",
      "W[1,1]   3.75    0.09   1.22   1.85   2.87   3.46   4.44   6.81    198    1.0\n",
      "W[2,1]   7.69    0.16    2.3   4.27   6.11   7.23   8.98  13.09    205    1.0\n",
      "W[3,1]   0.49    0.02    0.4   0.02   0.19   0.42   0.67   1.56    317    1.0\n",
      "W[4,1]   1.47    0.05   0.73   0.27   0.97   1.37   1.84   3.22    222    1.0\n",
      "H[0,0]   3.46    0.07   0.97   1.83   2.74   3.39   4.03   5.65    202    1.0\n",
      "H[1,0]    0.6    0.02   0.44   0.03   0.28    0.5   0.83   1.75    376    1.0\n",
      "H[0,1]   0.36    0.01   0.29   0.01   0.14    0.3   0.53   1.04    500    1.0\n",
      "H[1,1]   8.96    0.19   2.59   4.87   7.09   8.81  10.33  14.74    188    1.0\n",
      "H[0,2]   4.75    0.09   1.26   2.79   3.83   4.61    5.5    7.4    190    1.0\n",
      "H[1,2]   1.23    0.04   0.62   0.24    0.8   1.15   1.56   2.66    269    1.0\n",
      "H[0,3]   5.97    0.11   1.53   3.43   4.87    5.8   6.92   9.04    186    1.0\n",
      "H[1,3]   0.45    0.02   0.39   0.02   0.15   0.35   0.67   1.48    385   1.01\n",
      "eps      4.38    0.02   0.44   3.58   4.04   4.37   4.67   5.28    324    1.0\n",
      "lp__   -80.45    0.33    3.8 -88.01 -82.56 -80.16 -77.98 -74.11    131   1.01\n",
      "\n",
      "Samples were drawn using NUTS at Wed Dec 27 11:59:56 2017.\n",
      "For each parameter, n_eff is a crude measure of effective sample size,\n",
      "and Rhat is the potential scale reduction factor on split chains (at \n",
      "convergence, Rhat=1).\n"
     ]
    }
   ],
   "source": [
    "fit = fit_model.sampling(data=data_dict, iter=1000, chains=1)\n",
    "#fit_eps = pystan.stan(model_code=model, data=data_dict, iter=1000, chains=1)\n",
    "print(fit)"
   ]
  },
  {
   "cell_type": "code",
   "execution_count": 18,
   "metadata": {},
   "outputs": [
    {
     "data": {
      "text/plain": [
       "500"
      ]
     },
     "execution_count": 18,
     "metadata": {},
     "output_type": "execute_result"
    }
   ],
   "source": [
    "len(fit.extract()['H'])"
   ]
  },
  {
   "cell_type": "code",
   "execution_count": 7,
   "metadata": {},
   "outputs": [
    {
     "ename": "KeyError",
     "evalue": "'W[0,0]'",
     "output_type": "error",
     "traceback": [
      "\u001b[0;31m---------------------------------------------------------------------------\u001b[0m",
      "\u001b[0;31mKeyError\u001b[0m                                  Traceback (most recent call last)",
      "\u001b[0;32m<ipython-input-7-dfcb8feb741d>\u001b[0m in \u001b[0;36m<module>\u001b[0;34m()\u001b[0m\n\u001b[0;32m----> 1\u001b[0;31m \u001b[0mfit\u001b[0m\u001b[0;34m.\u001b[0m\u001b[0mplot\u001b[0m\u001b[0;34m(\u001b[0m\u001b[0;34m\"W[0,0]\"\u001b[0m\u001b[0;34m)\u001b[0m\u001b[0;34m\u001b[0m\u001b[0m\n\u001b[0m",
      "\u001b[0;32mstanfit4anon_model_3af51e32c9a82cadff167620130feac4_7840696376840338109.pyx\u001b[0m in \u001b[0;36mstanfit4anon_model_3af51e32c9a82cadff167620130feac4_7840696376840338109.StanFit4Model.plot (/tmp/tmpvvimklju/stanfit4anon_model_3af51e32c9a82cadff167620130feac4_7840696376840338109.cpp:10470)\u001b[0;34m()\u001b[0m\n",
      "\u001b[0;32m/usr/local/lib/python3.5/dist-packages/pystan/plots.py\u001b[0m in \u001b[0;36mtraceplot\u001b[0;34m(fit, pars, dtypes, **kwargs)\u001b[0m\n\u001b[1;32m     17\u001b[0m         \u001b[0mlogger\u001b[0m\u001b[0;34m.\u001b[0m\u001b[0mcritical\u001b[0m\u001b[0;34m(\u001b[0m\u001b[0;34m\"matplotlib required for plotting.\"\u001b[0m\u001b[0;34m)\u001b[0m\u001b[0;34m\u001b[0m\u001b[0m\n\u001b[1;32m     18\u001b[0m         \u001b[0;32mraise\u001b[0m\u001b[0;34m\u001b[0m\u001b[0m\n\u001b[0;32m---> 19\u001b[0;31m     \u001b[0;32mreturn\u001b[0m \u001b[0mplots\u001b[0m\u001b[0;34m.\u001b[0m\u001b[0mtraceplot\u001b[0m\u001b[0;34m(\u001b[0m\u001b[0mfit\u001b[0m\u001b[0;34m.\u001b[0m\u001b[0mextract\u001b[0m\u001b[0;34m(\u001b[0m\u001b[0mdtypes\u001b[0m\u001b[0;34m=\u001b[0m\u001b[0mdtypes\u001b[0m\u001b[0;34m)\u001b[0m\u001b[0;34m,\u001b[0m \u001b[0mpars\u001b[0m\u001b[0;34m,\u001b[0m \u001b[0;34m**\u001b[0m\u001b[0mkwargs\u001b[0m\u001b[0;34m)\u001b[0m\u001b[0;34m\u001b[0m\u001b[0m\n\u001b[0m",
      "\u001b[0;32m/usr/local/lib/python3.5/dist-packages/pystan/external/pymc/plots.py\u001b[0m in \u001b[0;36mtraceplot\u001b[0;34m(trace, vars)\u001b[0m\n\u001b[1;32m     34\u001b[0m \u001b[0;34m\u001b[0m\u001b[0m\n\u001b[1;32m     35\u001b[0m     \u001b[0;32mfor\u001b[0m \u001b[0mi\u001b[0m\u001b[0;34m,\u001b[0m \u001b[0mv\u001b[0m \u001b[0;32min\u001b[0m \u001b[0menumerate\u001b[0m\u001b[0;34m(\u001b[0m\u001b[0mvars\u001b[0m\u001b[0;34m)\u001b[0m\u001b[0;34m:\u001b[0m\u001b[0;34m\u001b[0m\u001b[0m\n\u001b[0;32m---> 36\u001b[0;31m         \u001b[0md\u001b[0m \u001b[0;34m=\u001b[0m \u001b[0mnp\u001b[0m\u001b[0;34m.\u001b[0m\u001b[0msqueeze\u001b[0m\u001b[0;34m(\u001b[0m\u001b[0mtrace\u001b[0m\u001b[0;34m[\u001b[0m\u001b[0mv\u001b[0m\u001b[0;34m]\u001b[0m\u001b[0;34m)\u001b[0m\u001b[0;34m\u001b[0m\u001b[0m\n\u001b[0m\u001b[1;32m     37\u001b[0m \u001b[0;34m\u001b[0m\u001b[0m\n\u001b[1;32m     38\u001b[0m         \u001b[0;32mif\u001b[0m \u001b[0mtrace\u001b[0m\u001b[0;34m[\u001b[0m\u001b[0mv\u001b[0m\u001b[0;34m]\u001b[0m\u001b[0;34m.\u001b[0m\u001b[0mdtype\u001b[0m\u001b[0;34m.\u001b[0m\u001b[0mkind\u001b[0m \u001b[0;34m==\u001b[0m \u001b[0;34m'i'\u001b[0m\u001b[0;34m:\u001b[0m\u001b[0;34m\u001b[0m\u001b[0m\n",
      "\u001b[0;31mKeyError\u001b[0m: 'W[0,0]'"
     ]
    }
   ],
   "source": [
    "fit.plot(\"W[0,0]\")"
   ]
  },
  {
   "cell_type": "code",
   "execution_count": 23,
   "metadata": {
    "scrolled": true
   },
   "outputs": [
    {
     "name": "stdout",
     "output_type": "stream",
     "text": [
      "OrderedDict([('W', array([[  9.04712329e+00,   3.81444816e-03],\n",
      "       [  3.88509857e+00,   3.23008255e+00],\n",
      "       [  4.88722388e-01,   6.49541909e+00],\n",
      "       [  9.05938447e-01,   2.04974372e-01],\n",
      "       [  5.79732896e-01,   1.35448826e+00]])), ('H', array([[  3.57591586e+00,   2.98524680e-01,   4.89260178e+00,\n",
      "          6.14647813e+00],\n",
      "       [  1.53048708e-01,   9.90446939e+00,   1.23564797e+00,\n",
      "          2.35808011e-03]])), ('eps', array(3.6941974555566297))])\n"
     ]
    }
   ],
   "source": [
    "#sm = pystan.StanModel(model_code=model)\n",
    "\n",
    "#with open('model.pkl', 'wb') as f:\n",
    "\n",
    "op = fit_model.optimizing(data=data_dict)\n",
    "print(op)"
   ]
  },
  {
   "cell_type": "code",
   "execution_count": 24,
   "metadata": {},
   "outputs": [
    {
     "data": {
      "text/plain": [
       "array([[ 32.35233545,   2.73856967,  44.2686848 ,  55.60795444],\n",
       "       [ 14.38714555,  33.15205158,  22.99948513,  23.88729018],\n",
       "       [  2.74174564,  64.47957526,  10.41717547,   3.01923819],\n",
       "       [  3.27093072,   2.30060738,   4.68567222,   5.56881419],\n",
       "       [  2.28037873,  13.58855207,   4.51007287,   3.56650956]])"
      ]
     },
     "execution_count": 24,
     "metadata": {},
     "output_type": "execute_result"
    }
   ],
   "source": [
    "np.matmul(op['W'], op['H'])"
   ]
  },
  {
   "cell_type": "code",
   "execution_count": null,
   "metadata": {
    "collapsed": true
   },
   "outputs": [],
   "source": [
    "np.mat"
   ]
  }
 ],
 "metadata": {
  "kernelspec": {
   "display_name": "Python 3",
   "language": "python",
   "name": "python3"
  },
  "language_info": {
   "codemirror_mode": {
    "name": "ipython",
    "version": 3
   },
   "file_extension": ".py",
   "mimetype": "text/x-python",
   "name": "python",
   "nbconvert_exporter": "python",
   "pygments_lexer": "ipython3",
   "version": "3.5.2"
  }
 },
 "nbformat": 4,
 "nbformat_minor": 2
}
