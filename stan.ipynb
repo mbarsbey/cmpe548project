{
 "cells": [
  {
   "cell_type": "code",
   "execution_count": 13,
   "metadata": {},
   "outputs": [],
   "source": [
    "import pystan\n",
    "from pystan import StanModel\n",
    "import numpy as np\n",
    "import pickle\n",
    "import os\n",
    "\n",
    "model = \"\"\"\n",
    "data {\n",
    "    int N;\n",
    "    int M;\n",
    "    real<lower=0>  V[N,M];\n",
    "}\n",
    "parameters {\n",
    "    //real<lower=0> lambda;\n",
    "    real<lower=0> W[N,2];\n",
    "    real<lower=0> H[2,M];\n",
    "    real eps;\n",
    "}\n",
    "model {\n",
    "    eps ~ normal(0,1);\n",
    "    for (i in 1:N)\n",
    "        for (j in 1:2)\n",
    "            W[i,j] ~ exponential(0.5);\n",
    "        \n",
    "    for (i in 1:2)\n",
    "        for (j in 1:M)\n",
    "            H[i,j] ~ exponential(0.5);\n",
    "    \n",
    "    for (i in 1:N)\n",
    "        for (j in 1:M)\n",
    "            V[i,j] ~ normal(W[i,1]*H[1,j]+W[i,2]*H[2,j], eps);\n",
    "}\n",
    "\"\"\"\n",
    "data = np.matrix([[36, 3, 45, 54], \\\n",
    "                            [4, 34, 23, 31], \\\n",
    "                            [9, 65, 11, 0], \\\n",
    "                            [17, 3, 3, 0], \\\n",
    "                            [0, 14, 7, 4]])"
   ]
  },
  {
   "cell_type": "code",
   "execution_count": 22,
   "metadata": {},
   "outputs": [
    {
     "name": "stdout",
     "output_type": "stream",
     "text": [
      "Inference for Stan model: anon_model_3af51e32c9a82cadff167620130feac4.\n",
      "1 chains, each with iter=1000; warmup=500; thin=1; \n",
      "post-warmup draws per chain=500, total post-warmup draws=500.\n",
      "\n",
      "         mean se_mean     sd   2.5%    25%    50%    75%  97.5%  n_eff   Rhat\n",
      "W[0,0]   0.38    0.01   0.34   0.02   0.14   0.32   0.53   1.25    500    1.0\n",
      "W[1,0]   3.64    0.07    1.1   1.84    2.9    3.5   4.26   6.13    255    1.0\n",
      "W[2,0]   7.35    0.14   2.06   3.77   5.96   7.19   8.54  11.86    206    1.0\n",
      "W[3,0]   0.48    0.02   0.39   0.02   0.18   0.41    0.7   1.35    500    1.0\n",
      "W[4,0]   1.51    0.03   0.59    0.6   1.07   1.41   1.85   2.87    358    1.0\n",
      "W[0,1]   9.56    0.26   2.64   5.59   7.53   9.25  11.05   15.7    105    1.0\n",
      "W[1,1]   3.86    0.11   1.17   2.03   3.04    3.7   4.61   6.33    118    1.0\n",
      "W[2,1]   0.47    0.02   0.39 4.8e-3   0.14    0.4   0.68   1.46    259    1.0\n",
      "W[3,1]   0.91    0.04   0.55   0.14    0.5   0.82   1.26    2.1    172    1.0\n",
      "W[4,1]   0.61    0.03   0.45   0.02   0.27   0.53   0.86   1.71    204    1.0\n",
      "H[0,0]   0.57    0.02   0.44   0.04   0.26   0.47   0.78   1.59    500    1.0\n",
      "H[1,0]   3.52    0.09   1.02   1.89    2.8   3.39   4.08   5.96    122    1.0\n",
      "H[0,1]   9.24    0.18   2.78   5.17   7.33   8.76   10.4  16.33    246    1.0\n",
      "H[1,1]   0.37    0.01   0.32   0.02   0.14   0.29   0.54   1.16    500    1.0\n",
      "H[0,2]   1.26    0.05   0.72   0.09    0.8   1.16   1.64   3.04    215    1.0\n",
      "H[1,2]   4.87    0.12   1.32   2.85   3.86   4.68    5.8   7.48    121    1.0\n",
      "H[0,3]   0.48    0.02   0.42   0.02   0.18   0.38   0.65   1.54    500    1.0\n",
      "H[1,3]   6.11    0.16   1.64   3.41   4.86   5.84   7.25   9.61    104    1.0\n",
      "eps      4.34    0.02   0.45    3.5   4.03   4.31   4.63   5.35    381    1.0\n",
      "lp__   -79.96    0.29   3.42 -87.96  -81.9 -79.76 -77.35 -74.24    143   1.01\n",
      "\n",
      "Samples were drawn using NUTS at Sat Dec 23 16:36:27 2017.\n",
      "For each parameter, n_eff is a crude measure of effective sample size,\n",
      "and Rhat is the potential scale reduction factor on split chains (at \n",
      "convergence, Rhat=1).\n"
     ]
    }
   ],
   "source": [
    "data_dict = {'N': data.shape[0], 'M': data.shape[1] ,'V' : data}\n",
    "\n",
    "if os.path.exists('model.pkl'):\n",
    "    fit_model = pickle.load(open('model.pkl', 'rb'))\n",
    "else:   \n",
    "    with open('model.pkl', 'wb+') as f:\n",
    "        fit_model = StanModel(model_code=model)\n",
    "        pickle.dump(fit_eps_model, f)\n",
    "    \n",
    "\n",
    "fit = fit_model.sampling(data=data_dict, iter=1000, chains=1)\n",
    "#fit_eps = pystan.stan(model_code=model, data=data_dict, iter=1000, chains=1)\n",
    "print(fit)"
   ]
  },
  {
   "cell_type": "code",
   "execution_count": 18,
   "metadata": {},
   "outputs": [
    {
     "data": {
      "text/plain": [
       "500"
      ]
     },
     "execution_count": 18,
     "metadata": {},
     "output_type": "execute_result"
    }
   ],
   "source": [
    "len(fit.extract()['H'])"
   ]
  },
  {
   "cell_type": "code",
   "execution_count": 19,
   "metadata": {},
   "outputs": [
    {
     "ename": "ValueError",
     "evalue": "points have dimension 1, dataset has dimension 500",
     "output_type": "error",
     "traceback": [
      "\u001b[0;31m---------------------------------------------------------------------------\u001b[0m",
      "\u001b[0;31mValueError\u001b[0m                                Traceback (most recent call last)",
      "\u001b[0;32m<ipython-input-19-45924182ee49>\u001b[0m in \u001b[0;36m<module>\u001b[0;34m()\u001b[0m\n\u001b[1;32m      1\u001b[0m \u001b[0mW\u001b[0m \u001b[0;34m=\u001b[0m \u001b[0mfit\u001b[0m\u001b[0;34m.\u001b[0m\u001b[0mextract\u001b[0m\u001b[0;34m(\u001b[0m\u001b[0;34m[\u001b[0m\u001b[0;34m'W'\u001b[0m\u001b[0;34m]\u001b[0m\u001b[0;34m)\u001b[0m\u001b[0;34m\u001b[0m\u001b[0m\n\u001b[1;32m      2\u001b[0m \u001b[0;34m\u001b[0m\u001b[0m\n\u001b[0;32m----> 3\u001b[0;31m \u001b[0mfit\u001b[0m\u001b[0;34m.\u001b[0m\u001b[0mplot\u001b[0m\u001b[0;34m(\u001b[0m\u001b[0mW\u001b[0m\u001b[0;34m)\u001b[0m\u001b[0;34m\u001b[0m\u001b[0m\n\u001b[0m",
      "\u001b[0;32mstanfit4anon_model_3af51e32c9a82cadff167620130feac4_5330770121631473274.pyx\u001b[0m in \u001b[0;36mstanfit4anon_model_3af51e32c9a82cadff167620130feac4_5330770121631473274.StanFit4Model.plot\u001b[0;34m()\u001b[0m\n",
      "\u001b[0;32m~/miniconda3/lib/python3.5/site-packages/pystan/plots.py\u001b[0m in \u001b[0;36mtraceplot\u001b[0;34m(fit, pars, dtypes, **kwargs)\u001b[0m\n\u001b[1;32m     17\u001b[0m         \u001b[0mlogger\u001b[0m\u001b[0;34m.\u001b[0m\u001b[0mcritical\u001b[0m\u001b[0;34m(\u001b[0m\u001b[0;34m\"matplotlib required for plotting.\"\u001b[0m\u001b[0;34m)\u001b[0m\u001b[0;34m\u001b[0m\u001b[0m\n\u001b[1;32m     18\u001b[0m         \u001b[0;32mraise\u001b[0m\u001b[0;34m\u001b[0m\u001b[0m\n\u001b[0;32m---> 19\u001b[0;31m     \u001b[0;32mreturn\u001b[0m \u001b[0mplots\u001b[0m\u001b[0;34m.\u001b[0m\u001b[0mtraceplot\u001b[0m\u001b[0;34m(\u001b[0m\u001b[0mfit\u001b[0m\u001b[0;34m.\u001b[0m\u001b[0mextract\u001b[0m\u001b[0;34m(\u001b[0m\u001b[0mdtypes\u001b[0m\u001b[0;34m=\u001b[0m\u001b[0mdtypes\u001b[0m\u001b[0;34m)\u001b[0m\u001b[0;34m,\u001b[0m \u001b[0mpars\u001b[0m\u001b[0;34m,\u001b[0m \u001b[0;34m**\u001b[0m\u001b[0mkwargs\u001b[0m\u001b[0;34m)\u001b[0m\u001b[0;34m\u001b[0m\u001b[0m\n\u001b[0m",
      "\u001b[0;32m~/miniconda3/lib/python3.5/site-packages/pystan/external/pymc/plots.py\u001b[0m in \u001b[0;36mtraceplot\u001b[0;34m(trace, vars)\u001b[0m\n\u001b[1;32m     39\u001b[0m             \u001b[0max\u001b[0m\u001b[0;34m[\u001b[0m\u001b[0mi\u001b[0m\u001b[0;34m,\u001b[0m \u001b[0;36m0\u001b[0m\u001b[0;34m]\u001b[0m\u001b[0;34m.\u001b[0m\u001b[0mhist\u001b[0m\u001b[0;34m(\u001b[0m\u001b[0md\u001b[0m\u001b[0;34m,\u001b[0m \u001b[0mbins\u001b[0m\u001b[0;34m=\u001b[0m\u001b[0msqrt\u001b[0m\u001b[0;34m(\u001b[0m\u001b[0md\u001b[0m\u001b[0;34m.\u001b[0m\u001b[0msize\u001b[0m\u001b[0;34m)\u001b[0m\u001b[0;34m)\u001b[0m\u001b[0;34m\u001b[0m\u001b[0m\n\u001b[1;32m     40\u001b[0m         \u001b[0;32melse\u001b[0m\u001b[0;34m:\u001b[0m\u001b[0;34m\u001b[0m\u001b[0m\n\u001b[0;32m---> 41\u001b[0;31m             \u001b[0mkdeplot_op\u001b[0m\u001b[0;34m(\u001b[0m\u001b[0max\u001b[0m\u001b[0;34m[\u001b[0m\u001b[0mi\u001b[0m\u001b[0;34m,\u001b[0m \u001b[0;36m0\u001b[0m\u001b[0;34m]\u001b[0m\u001b[0;34m,\u001b[0m \u001b[0md\u001b[0m\u001b[0;34m)\u001b[0m\u001b[0;34m\u001b[0m\u001b[0m\n\u001b[0m\u001b[1;32m     42\u001b[0m         \u001b[0max\u001b[0m\u001b[0;34m[\u001b[0m\u001b[0mi\u001b[0m\u001b[0;34m,\u001b[0m \u001b[0;36m0\u001b[0m\u001b[0;34m]\u001b[0m\u001b[0;34m.\u001b[0m\u001b[0mset_title\u001b[0m\u001b[0;34m(\u001b[0m\u001b[0mstr\u001b[0m\u001b[0;34m(\u001b[0m\u001b[0mv\u001b[0m\u001b[0;34m)\u001b[0m\u001b[0;34m)\u001b[0m\u001b[0;34m\u001b[0m\u001b[0m\n\u001b[1;32m     43\u001b[0m         \u001b[0max\u001b[0m\u001b[0;34m[\u001b[0m\u001b[0mi\u001b[0m\u001b[0;34m,\u001b[0m \u001b[0;36m1\u001b[0m\u001b[0;34m]\u001b[0m\u001b[0;34m.\u001b[0m\u001b[0mplot\u001b[0m\u001b[0;34m(\u001b[0m\u001b[0md\u001b[0m\u001b[0;34m,\u001b[0m \u001b[0malpha\u001b[0m\u001b[0;34m=\u001b[0m\u001b[0;36m.35\u001b[0m\u001b[0;34m)\u001b[0m\u001b[0;34m\u001b[0m\u001b[0m\n",
      "\u001b[0;32m~/miniconda3/lib/python3.5/site-packages/pystan/external/pymc/plots.py\u001b[0m in \u001b[0;36mkdeplot_op\u001b[0;34m(ax, data)\u001b[0m\n\u001b[1;32m     58\u001b[0m         \u001b[0mx\u001b[0m \u001b[0;34m=\u001b[0m \u001b[0mnp\u001b[0m\u001b[0;34m.\u001b[0m\u001b[0mlinspace\u001b[0m\u001b[0;34m(\u001b[0m\u001b[0;36m0\u001b[0m\u001b[0;34m,\u001b[0m \u001b[0;36m1\u001b[0m\u001b[0;34m,\u001b[0m \u001b[0;36m100\u001b[0m\u001b[0;34m)\u001b[0m \u001b[0;34m*\u001b[0m \u001b[0;34m(\u001b[0m\u001b[0mu\u001b[0m \u001b[0;34m-\u001b[0m \u001b[0ml\u001b[0m\u001b[0;34m)\u001b[0m \u001b[0;34m+\u001b[0m \u001b[0ml\u001b[0m\u001b[0;34m\u001b[0m\u001b[0m\n\u001b[1;32m     59\u001b[0m \u001b[0;34m\u001b[0m\u001b[0m\n\u001b[0;32m---> 60\u001b[0;31m         \u001b[0max\u001b[0m\u001b[0;34m.\u001b[0m\u001b[0mplot\u001b[0m\u001b[0;34m(\u001b[0m\u001b[0mx\u001b[0m\u001b[0;34m,\u001b[0m \u001b[0mdensity\u001b[0m\u001b[0;34m(\u001b[0m\u001b[0mx\u001b[0m\u001b[0;34m)\u001b[0m\u001b[0;34m)\u001b[0m\u001b[0;34m\u001b[0m\u001b[0m\n\u001b[0m\u001b[1;32m     61\u001b[0m \u001b[0;34m\u001b[0m\u001b[0m\n\u001b[1;32m     62\u001b[0m \u001b[0;34m\u001b[0m\u001b[0m\n",
      "\u001b[0;32m~/miniconda3/lib/python3.5/site-packages/scipy/stats/kde.py\u001b[0m in \u001b[0;36mevaluate\u001b[0;34m(self, points)\u001b[0m\n\u001b[1;32m    203\u001b[0m                 msg = \"points have dimension %s, dataset has dimension %s\" % (d,\n\u001b[1;32m    204\u001b[0m                     self.d)\n\u001b[0;32m--> 205\u001b[0;31m                 \u001b[0;32mraise\u001b[0m \u001b[0mValueError\u001b[0m\u001b[0;34m(\u001b[0m\u001b[0mmsg\u001b[0m\u001b[0;34m)\u001b[0m\u001b[0;34m\u001b[0m\u001b[0m\n\u001b[0m\u001b[1;32m    206\u001b[0m \u001b[0;34m\u001b[0m\u001b[0m\n\u001b[1;32m    207\u001b[0m         \u001b[0mresult\u001b[0m \u001b[0;34m=\u001b[0m \u001b[0mzeros\u001b[0m\u001b[0;34m(\u001b[0m\u001b[0;34m(\u001b[0m\u001b[0mm\u001b[0m\u001b[0;34m,\u001b[0m\u001b[0;34m)\u001b[0m\u001b[0;34m,\u001b[0m \u001b[0mdtype\u001b[0m\u001b[0;34m=\u001b[0m\u001b[0mfloat\u001b[0m\u001b[0;34m)\u001b[0m\u001b[0;34m\u001b[0m\u001b[0m\n",
      "\u001b[0;31mValueError\u001b[0m: points have dimension 1, dataset has dimension 500"
     ]
    }
   ],
   "source": [
    "W = fit.extract(['W'])\n",
    "\n",
    "fit.plot(W)"
   ]
  },
  {
   "cell_type": "code",
   "execution_count": 23,
   "metadata": {
    "scrolled": true
   },
   "outputs": [
    {
     "name": "stdout",
     "output_type": "stream",
     "text": [
      "OrderedDict([('W', array([[  9.04712329e+00,   3.81444816e-03],\n",
      "       [  3.88509857e+00,   3.23008255e+00],\n",
      "       [  4.88722388e-01,   6.49541909e+00],\n",
      "       [  9.05938447e-01,   2.04974372e-01],\n",
      "       [  5.79732896e-01,   1.35448826e+00]])), ('H', array([[  3.57591586e+00,   2.98524680e-01,   4.89260178e+00,\n",
      "          6.14647813e+00],\n",
      "       [  1.53048708e-01,   9.90446939e+00,   1.23564797e+00,\n",
      "          2.35808011e-03]])), ('eps', array(3.6941974555566297))])\n"
     ]
    }
   ],
   "source": [
    "#sm = pystan.StanModel(model_code=model)\n",
    "\n",
    "#with open('model.pkl', 'wb') as f:\n",
    "\n",
    "op = fit_model.optimizing(data=data_dict)\n",
    "print(op)"
   ]
  },
  {
   "cell_type": "code",
   "execution_count": 24,
   "metadata": {},
   "outputs": [
    {
     "data": {
      "text/plain": [
       "array([[ 32.35233545,   2.73856967,  44.2686848 ,  55.60795444],\n",
       "       [ 14.38714555,  33.15205158,  22.99948513,  23.88729018],\n",
       "       [  2.74174564,  64.47957526,  10.41717547,   3.01923819],\n",
       "       [  3.27093072,   2.30060738,   4.68567222,   5.56881419],\n",
       "       [  2.28037873,  13.58855207,   4.51007287,   3.56650956]])"
      ]
     },
     "execution_count": 24,
     "metadata": {},
     "output_type": "execute_result"
    }
   ],
   "source": [
    "np.matmul(op['W'], op['H'])"
   ]
  },
  {
   "cell_type": "code",
   "execution_count": null,
   "metadata": {
    "collapsed": true
   },
   "outputs": [],
   "source": [
    "np.mat"
   ]
  }
 ],
 "metadata": {
  "kernelspec": {
   "display_name": "Python 3",
   "language": "python",
   "name": "python3"
  },
  "language_info": {
   "codemirror_mode": {
    "name": "ipython",
    "version": 3
   },
   "file_extension": ".py",
   "mimetype": "text/x-python",
   "name": "python",
   "nbconvert_exporter": "python",
   "pygments_lexer": "ipython3",
   "version": "3.5.3"
  }
 },
 "nbformat": 4,
 "nbformat_minor": 2
}
